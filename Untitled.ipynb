{
 "cells": [
  {
   "cell_type": "code",
   "execution_count": 215,
   "metadata": {},
   "outputs": [],
   "source": [
    "import matplotlib.pyplot as plt\n",
    "import numpy as np\n",
    "from sklearn import datasets, svm\n",
    "from pulearn.pu import bagging"
   ]
  },
  {
   "cell_type": "code",
   "execution_count": 372,
   "metadata": {},
   "outputs": [],
   "source": [
    "def induction(mod, X, Y, rel_neg = [], iters = 100):\n",
    "    '''\n",
    "    Function performs PU inductions (aka. 2-step method)\n",
    "    '''\n",
    "    p, u = [], []\n",
    "    for i, y in enumerate(Y):\n",
    "        if y == 1:\n",
    "            p.append(i)\n",
    "        else:\n",
    "            u.append(i)\n",
    "\n",
    "    n = rel_neg\n",
    "    for i in range(iters):\n",
    "        proba = (\n",
    "            mod\n",
    "            .fit(X[p + n], Y[p + n])\n",
    "            .predict_proba(X)[:,1]\n",
    "        )        \n",
    "        n = [j for j in u if proba[j] < .5]\n",
    "    \n",
    "    return proba   "
   ]
  },
  {
   "cell_type": "code",
   "execution_count": 312,
   "metadata": {},
   "outputs": [],
   "source": [
    "def bagging(mod, X, Y, iters = 100, r = 0.1):\n",
    "    '''\n",
    "    Function performs PU bagging\n",
    "    '''\n",
    "    p, u = [], []\n",
    "    for i, y in enumerate(Y):\n",
    "        if y == 1:\n",
    "            p.append(i)\n",
    "        else:\n",
    "            u.append(i)\n",
    "\n",
    "    k = np.int(len(u) * r)\n",
    "\n",
    "    proba = (\n",
    "        np\n",
    "        .array([])\n",
    "        .reshape((0, len(X)))\n",
    "    )\n",
    "\n",
    "    for i in range(iters):\n",
    "        u_perm = list(np.random.permutation(u))\n",
    "        idx = u_perm[:k] + p\n",
    "        probs = (\n",
    "            mod\n",
    "            .fit(X[idx], Y[idx])\n",
    "            .predict_proba(X)[:,1]\n",
    "        )\n",
    "        proba = np.vstack((proba, probs))\n",
    "\n",
    "    proba = proba.mean(axis = 0)\n",
    "\n",
    "    return(proba)"
   ]
  },
  {
   "cell_type": "code",
   "execution_count": 323,
   "metadata": {},
   "outputs": [
    {
     "data": {
      "text/plain": [
       "array([ True,  True,  True,  True,  True,  True,  True,  True,  True,\n",
       "        True,  True,  True,  True, False, False, False,  True,  True,\n",
       "       False,  True,  True,  True,  True,  True,  True,  True,  True,\n",
       "        True,  True,  True,  True,  True,  True, False,  True,  True,\n",
       "        True,  True,  True,  True,  True,  True,  True,  True,  True,\n",
       "        True,  True,  True,  True,  True,  True,  True,  True,  True,\n",
       "        True,  True,  True,  True,  True,  True,  True,  True,  True,\n",
       "        True,  True,  True,  True,  True,  True,  True,  True,  True,\n",
       "        True,  True,  True,  True,  True,  True,  True,  True,  True,\n",
       "        True,  True,  True,  True,  True,  True,  True,  True,  True,\n",
       "        True,  True,  True,  True,  True,  True,  True,  True,  True,\n",
       "        True,  True,  True,  True,  True,  True,  True,  True,  True,\n",
       "        True,  True,  True,  True,  True,  True,  True,  True,  True,\n",
       "        True,  True,  True,  True,  True,  True,  True,  True,  True,\n",
       "        True,  True,  True,  True,  True,  True,  True,  True,  True,\n",
       "        True,  True,  True,  True,  True,  True,  True,  True,  True,\n",
       "        True,  True,  True,  True,  True,  True])"
      ]
     },
     "execution_count": 323,
     "metadata": {},
     "output_type": "execute_result"
    }
   ],
   "source": []
  },
  {
   "cell_type": "code",
   "execution_count": 374,
   "metadata": {},
   "outputs": [
    {
     "name": "stdout",
     "output_type": "stream",
     "text": [
      "0.8708411241807563\n",
      "0.8209031152618202\n",
      "0.7780388233321216\n",
      "0.7543591503126408\n",
      "0.7205054013863815\n",
      "0.7493650239650923\n",
      "0.7320142113872835\n",
      "0.6840302650687535\n",
      "0.7265865211489301\n",
      "0.7129577861854994\n",
      "0.7289874302239303\n",
      "0.7160051251187927\n",
      "0.7311321190661293\n",
      "0.7207533465772854\n",
      "0.7528275948872135\n",
      "0.7295697216607753\n",
      "0.7209992429778926\n",
      "0.7393447136712947\n",
      "0.7611012733728242\n",
      "0.7033687168716193\n",
      "0.7513267663757013\n",
      "0.7442135785895496\n",
      "0.7128859385769849\n",
      "0.7184515253156191\n",
      "0.7193361389322204\n",
      "0.7753788954295171\n",
      "0.7129498553307285\n",
      "0.7221167038665204\n",
      "0.7119587498231372\n",
      "0.7124983876987945\n",
      "0.7114674778433648\n",
      "0.7357980301940593\n",
      "0.7065435472487743\n",
      "0.7407577200911603\n",
      "0.7090883446844951\n",
      "0.7135551974940518\n",
      "0.7467834514783586\n",
      "0.7308931280293095\n",
      "0.7201133752579748\n",
      "0.7329593354708567\n",
      "0.7117266085633328\n",
      "0.6927849808495988\n",
      "0.6921344125165648\n",
      "0.7430606400961286\n",
      "0.680333923390398\n",
      "0.7230535322377994\n",
      "0.7226267761615092\n",
      "0.706881666648556\n",
      "0.7364966432909962\n",
      "0.7070407773531385\n",
      "0.7241180344271154\n",
      "0.6996516557151257\n",
      "0.6632189788805241\n",
      "0.6994980251900037\n",
      "0.7275849721396446\n",
      "0.7214526857747393\n",
      "0.72202167590966\n",
      "0.7439738860716097\n",
      "0.7177925789098798\n",
      "0.722558844778768\n",
      "0.7267875336637784\n",
      "0.7622773968471642\n",
      "0.766100576712627\n",
      "0.7397789355058587\n",
      "0.7471940045350681\n",
      "0.7210523436654335\n",
      "0.7466961237377598\n",
      "0.7540719348622102\n",
      "0.7294868614635568\n",
      "0.7109282744963312\n",
      "0.739656938503994\n",
      "0.7406135708258298\n",
      "0.7239806147373202\n",
      "0.7543854863686871\n",
      "0.7305171247809162\n",
      "0.7476190282758077\n",
      "0.7537692977721417\n",
      "0.7228881232462026\n",
      "0.7783041175569231\n",
      "0.7383904109239061\n",
      "0.7197085143827073\n",
      "0.7533642408721106\n",
      "0.7572884011419289\n",
      "0.720088398684478\n",
      "0.7194054420069699\n",
      "0.7362785940147305\n",
      "0.7700697044129974\n",
      "0.7323081237113899\n",
      "0.7454693516894095\n",
      "0.7218624061517015\n",
      "0.7597071484433585\n",
      "0.765395505996774\n",
      "0.7152853437781672\n",
      "0.6908086120339552\n",
      "0.7221299038199268\n",
      "0.7344821826180331\n",
      "0.7257486815009739\n",
      "0.7352049521231862\n",
      "0.7232909908887342\n",
      "0.7434683790359828\n"
     ]
    }
   ],
   "source": [
    "p_num = 20\n",
    "iris = datasets.load_iris()\n",
    "X = iris.data[:,:2]\n",
    "Y = np.array([1] * p_num  + [0] * (len(X) - p_num))\n",
    "mod = svm.SVC(gamma='scale', probability=True)\n",
    "#pu_proba = bagging(mod, X, Y, iters = 1000, r = .2)\n",
    "idx = np.random.choice(np.where(iris.target == 2)[0], 15)\n",
    "pu_proba = induction(mod, X, Y, rel_neg= list(idx), iters = 100)"
   ]
  },
  {
   "cell_type": "code",
   "execution_count": 375,
   "metadata": {},
   "outputs": [
    {
     "data": {
      "image/png": "[encoded data removed]",
      "text/plain": [
       "<Figure size 432x288 with 1 Axes>"
      ]
     },
     "metadata": {
      "needs_background": "light"
     },
     "output_type": "display_data"
    }
   ],
   "source": [
    "plt.hist(pu_proba, 100)\n",
    "plt.show()"
   ]
  },
  {
   "cell_type": "code",
   "execution_count": 378,
   "metadata": {},
   "outputs": [
    {
     "data": {
      "image/png": "[encoded data removed]",
      "text/plain": [
       "<Figure size 432x288 with 1 Axes>"
      ]
     },
     "metadata": {
      "needs_background": "light"
     },
     "output_type": "display_data"
    }
   ],
   "source": [
    "cm = {0 : 'blue', 1 : 'red', 2 : 'orange'}\n",
    "colors = [cm[t] for t in iris.target]\n",
    "p_th = min([p for i, p in enumerate(pu_proba) if Y[i] == 1])\n",
    "p_th = 0.5\n",
    "pred_pos = [i for i, p in enumerate(pu_proba) if p > p_th]\n",
    "\n",
    "plt.scatter(\n",
    "    x = range(len(pred_pos)), \n",
    "    y = pu_proba[pred_pos],     \n",
    "    color = [colors[i] for i in pred_pos]\n",
    ")\n",
    "\n",
    "plt.scatter(\n",
    "    x = range(len(pu_proba)), \n",
    "    y = pu_proba,     \n",
    "    alpha = 0.2,\n",
    "    color = colors\n",
    ")\n",
    "\n",
    "plt.grid()\n",
    "plt.show()"
   ]
  },
  {
   "cell_type": "code",
   "execution_count": 380,
   "metadata": {},
   "outputs": [
    {
     "name": "stdout",
     "output_type": "stream",
     "text": [
      "0.7434683790359828\n"
     ]
    },
    {
     "data": {
      "image/png": "[encoded data removed]",
      "text/plain": [
       "<Figure size 432x288 with 1 Axes>"
      ]
     },
     "metadata": {
      "needs_background": "light"
     },
     "output_type": "display_data"
    }
   ],
   "source": [
    "cm = {0 : 'blue', 1 : 'red', 2 : 'orange'}\n",
    "colors = [cm[t] for t in iris.target]\n",
    "p_th = min([p for i, p in enumerate(pu_proba) if Y[i] == 1])\n",
    "print(p_th)\n",
    "p_th = 0.5\n",
    "pred_pos = [i for i, p in enumerate(pu_proba) if p > p_th]\n",
    "\n",
    "plt.scatter(\n",
    "    x = X[pred_pos,0], \n",
    "    y = X[pred_pos,1],     \n",
    "    color = [colors[i] for i in pred_pos]\n",
    ")\n",
    "\n",
    "plt.scatter(\n",
    "    x = X[:,0], \n",
    "    y = X[:,1],     \n",
    "    alpha = 0.2,\n",
    "    color = colors\n",
    ")\n",
    "plt.grid()\n",
    "plt.show()"
   ]
  },
  {
   "cell_type": "code",
   "execution_count": 279,
   "metadata": {},
   "outputs": [],
   "source": [
    "assert np.min(pu_proba) < 1.\n",
    "assert np.max(pu_proba) > 0."
   ]
  },
  {
   "cell_type": "code",
   "execution_count": null,
   "metadata": {},
   "outputs": [],
   "source": []
  }
 ],
 "metadata": {
  "kernelspec": {
   "display_name": "Python 3",
   "language": "python",
   "name": "python3"
  },
  "language_info": {
   "codemirror_mode": {
    "name": "ipython",
    "version": 3
   },
   "file_extension": ".py",
   "mimetype": "text/x-python",
   "name": "python",
   "nbconvert_exporter": "python",
   "pygments_lexer": "ipython3",
   "version": "3.7.3"
  }
 },
 "nbformat": 4,
 "nbformat_minor": 2
}
